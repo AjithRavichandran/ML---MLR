{
 "cells": [
  {
   "cell_type": "code",
   "execution_count": 3,
   "id": "41f1c2ab-71a0-4cdf-8642-1453fb8067ce",
   "metadata": {},
   "outputs": [],
   "source": [
    "import pickle\n",
    "load=pickle.load(open('MLR Model.sav','rb'))"
   ]
  },
  {
   "cell_type": "code",
   "execution_count": 4,
   "id": "64cf4643-0a3a-419c-a246-f5abfb4581a9",
   "metadata": {},
   "outputs": [
    {
     "name": "stdin",
     "output_type": "stream",
     "text": [
      "Enter your R&D Spend: 343\n",
      "Enter your Administration Spend: 543\n",
      "Enter your Market spent: 2345\n",
      "State Florida 0 or 1: 0\n",
      "State New York 0 or 1: 1\n"
     ]
    }
   ],
   "source": [
    "RD_Spend=float(input(\"Enter your R&D Spend:\"))\n",
    "Administration=float(input(\"Enter your Administration Spend:\"))\n",
    "Marketing_Spend=float(input(\"Enter your Market spent:\"))\n",
    "State_Florida=int(input(\"State Florida 0 or 1:\"))\n",
    "State_New_York=int(input(\"State New York 0 or 1:\"))"
   ]
  },
  {
   "cell_type": "code",
   "execution_count": 5,
   "id": "54b06ccd-b4a7-4db1-909e-ac29e7765f69",
   "metadata": {},
   "outputs": [
    {
     "name": "stderr",
     "output_type": "stream",
     "text": [
      "C:\\Anaconda3\\Lib\\site-packages\\sklearn\\base.py:493: UserWarning: X does not have valid feature names, but LinearRegression was fitted with feature names\n",
      "  warnings.warn(\n"
     ]
    }
   ],
   "source": [
    "result=load.predict([[RD_Spend,Administration,Marketing_Spend,State_Florida,State_New_York]])"
   ]
  },
  {
   "cell_type": "code",
   "execution_count": 6,
   "id": "0796574c-ebb0-4b2e-804c-d7d6c79e2dd5",
   "metadata": {},
   "outputs": [
    {
     "data": {
      "text/plain": [
       "array([[39173.98116274]])"
      ]
     },
     "execution_count": 6,
     "metadata": {},
     "output_type": "execute_result"
    }
   ],
   "source": [
    "result"
   ]
  },
  {
   "cell_type": "code",
   "execution_count": null,
   "id": "e26b30b7-3e30-4943-b30a-25220dbf5f94",
   "metadata": {},
   "outputs": [],
   "source": []
  }
 ],
 "metadata": {
  "kernelspec": {
   "display_name": "Python 3 (ipykernel)",
   "language": "python",
   "name": "python3"
  },
  "language_info": {
   "codemirror_mode": {
    "name": "ipython",
    "version": 3
   },
   "file_extension": ".py",
   "mimetype": "text/x-python",
   "name": "python",
   "nbconvert_exporter": "python",
   "pygments_lexer": "ipython3",
   "version": "3.12.4"
  }
 },
 "nbformat": 4,
 "nbformat_minor": 5
}
