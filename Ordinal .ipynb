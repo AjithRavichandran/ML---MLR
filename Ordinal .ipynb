{
 "cells": [
  {
   "cell_type": "code",
   "execution_count": 14,
   "id": "5b05ad08-404c-40db-9837-fd493f32c630",
   "metadata": {},
   "outputs": [],
   "source": [
    "import pandas as pd"
   ]
  },
  {
   "cell_type": "code",
   "execution_count": 15,
   "id": "dc274654-c51c-4d8d-be38-bce2dc3d55dc",
   "metadata": {},
   "outputs": [],
   "source": [
    "data={'size': ['S', 'M', 'L', 'XL', 'M', 'L', 'S', 'XL']}"
   ]
  },
  {
   "cell_type": "code",
   "execution_count": 16,
   "id": "fb9bdc46-011f-41ce-ba08-3a0aac0ebe49",
   "metadata": {},
   "outputs": [
    {
     "data": {
      "text/plain": [
       "{'size': ['S', 'M', 'L', 'XL', 'M', 'L', 'S', 'XL']}"
      ]
     },
     "execution_count": 16,
     "metadata": {},
     "output_type": "execute_result"
    }
   ],
   "source": [
    "data"
   ]
  },
  {
   "cell_type": "code",
   "execution_count": 17,
   "id": "7ff86ae2-2eec-44ef-ad8c-ec7861c91168",
   "metadata": {},
   "outputs": [],
   "source": [
    "df = pd.DataFrame(data)"
   ]
  },
  {
   "cell_type": "code",
   "execution_count": 18,
   "id": "989248da-816c-490e-9ded-0750d4d6f450",
   "metadata": {},
   "outputs": [
    {
     "data": {
      "text/html": [
       "<div>\n",
       "<style scoped>\n",
       "    .dataframe tbody tr th:only-of-type {\n",
       "        vertical-align: middle;\n",
       "    }\n",
       "\n",
       "    .dataframe tbody tr th {\n",
       "        vertical-align: top;\n",
       "    }\n",
       "\n",
       "    .dataframe thead th {\n",
       "        text-align: right;\n",
       "    }\n",
       "</style>\n",
       "<table border=\"1\" class=\"dataframe\">\n",
       "  <thead>\n",
       "    <tr style=\"text-align: right;\">\n",
       "      <th></th>\n",
       "      <th>size</th>\n",
       "    </tr>\n",
       "  </thead>\n",
       "  <tbody>\n",
       "    <tr>\n",
       "      <th>0</th>\n",
       "      <td>S</td>\n",
       "    </tr>\n",
       "    <tr>\n",
       "      <th>1</th>\n",
       "      <td>M</td>\n",
       "    </tr>\n",
       "    <tr>\n",
       "      <th>2</th>\n",
       "      <td>L</td>\n",
       "    </tr>\n",
       "    <tr>\n",
       "      <th>3</th>\n",
       "      <td>XL</td>\n",
       "    </tr>\n",
       "    <tr>\n",
       "      <th>4</th>\n",
       "      <td>M</td>\n",
       "    </tr>\n",
       "    <tr>\n",
       "      <th>5</th>\n",
       "      <td>L</td>\n",
       "    </tr>\n",
       "    <tr>\n",
       "      <th>6</th>\n",
       "      <td>S</td>\n",
       "    </tr>\n",
       "    <tr>\n",
       "      <th>7</th>\n",
       "      <td>XL</td>\n",
       "    </tr>\n",
       "  </tbody>\n",
       "</table>\n",
       "</div>"
      ],
      "text/plain": [
       "  size\n",
       "0    S\n",
       "1    M\n",
       "2    L\n",
       "3   XL\n",
       "4    M\n",
       "5    L\n",
       "6    S\n",
       "7   XL"
      ]
     },
     "execution_count": 18,
     "metadata": {},
     "output_type": "execute_result"
    }
   ],
   "source": [
    "df"
   ]
  },
  {
   "cell_type": "code",
   "execution_count": 19,
   "id": "1c0bf1e4-1112-4979-9b04-03e40b6175ba",
   "metadata": {},
   "outputs": [],
   "source": [
    "from sklearn.preprocessing import LabelEncoder\n",
    "label_encoder = LabelEncoder()\n",
    "df['size_encoded'] = label_encoder.fit_transform(df['size'])"
   ]
  },
  {
   "cell_type": "code",
   "execution_count": 20,
   "id": "2383dcad-f670-4486-89d9-becbb8964b38",
   "metadata": {},
   "outputs": [
    {
     "name": "stdout",
     "output_type": "stream",
     "text": [
      "  size  size_encoded\n",
      "0    S             2\n",
      "1    M             1\n",
      "2    L             0\n",
      "3   XL             3\n",
      "4    M             1\n",
      "5    L             0\n",
      "6    S             2\n",
      "7   XL             3\n"
     ]
    }
   ],
   "source": [
    "print(df)"
   ]
  },
  {
   "cell_type": "code",
   "execution_count": null,
   "id": "68501f49-1a45-4dd7-9f32-607dded2ab3a",
   "metadata": {},
   "outputs": [],
   "source": [
    "size_mapping = {index: label for index, label in enumerate(label_encoder.classes_)}\n"
   ]
  },
  {
   "cell_type": "code",
   "execution_count": 21,
   "id": "6ce9d936-16f8-468b-a9dd-547ef89f7bb1",
   "metadata": {},
   "outputs": [
    {
     "name": "stdout",
     "output_type": "stream",
     "text": [
      "Size Mapping: {0: 'L', 1: 'M', 2: 'S', 3: 'XL'}\n"
     ]
    }
   ],
   "source": [
    "print(\"Size Mapping:\",size_mapping)"
   ]
  },
  {
   "cell_type": "code",
   "execution_count": null,
   "id": "87ab5f19-2db5-468d-9e9d-ecb1485574fa",
   "metadata": {},
   "outputs": [],
   "source": []
  },
  {
   "cell_type": "code",
   "execution_count": null,
   "id": "43851223-18b6-4aea-80c8-98b3dca18286",
   "metadata": {},
   "outputs": [],
   "source": []
  },
  {
   "cell_type": "code",
   "execution_count": null,
   "id": "7a2ff386-200f-4736-b9dd-35ffc995b7c7",
   "metadata": {},
   "outputs": [],
   "source": []
  }
 ],
 "metadata": {
  "kernelspec": {
   "display_name": "Python 3 (ipykernel)",
   "language": "python",
   "name": "python3"
  },
  "language_info": {
   "codemirror_mode": {
    "name": "ipython",
    "version": 3
   },
   "file_extension": ".py",
   "mimetype": "text/x-python",
   "name": "python",
   "nbconvert_exporter": "python",
   "pygments_lexer": "ipython3",
   "version": "3.12.4"
  }
 },
 "nbformat": 4,
 "nbformat_minor": 5
}
